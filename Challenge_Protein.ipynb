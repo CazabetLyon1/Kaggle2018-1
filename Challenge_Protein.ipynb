{
 "cells": [
  {
   "cell_type": "markdown",
   "metadata": {
    "_uuid": "3c99eefdd6849eeaeb53d353a9fe00e5489918fb"
   },
   "source": [
    "# SUJET"
   ]
  },
  {
   "cell_type": "markdown",
   "metadata": {
    "_uuid": "f6334ed2c340b7ea13253a608cec4a91b3ff03dc"
   },
   "source": [
    "Vous prévoyez des étiquettes de localisation des organites de protéines pour chaque échantillon. Au total, 28 étiquettes différentes sont présentes dans l'ensemble de données. L'ensemble de données est acquis de manière hautement normalisée en utilisant une modalité d'imagerie (microscopie confocale). Cependant, l'ensemble de données comprend 27 types de cellules de morphologie très différente, qui affectent les profils protéiques des différents organites. Tous les échantillons d'images sont représentés par quatre filtres (stockés sous forme de fichiers individuels), la protéine d'intérêt (vert) et trois repères cellulaires: noyau (bleu), microtubules (rouge), réticulum endoplasmique (jaune). Le filtre vert devrait donc être utilisé pour prédire l'étiquette, et les autres filtres sont utilisés comme références."
   ]
  },
  {
   "cell_type": "markdown",
   "metadata": {
    "_uuid": "f7da40df92d689d529449b7d94d65d88bdd4a06d"
   },
   "source": [
    "0.  Nucleoplasm  \n",
    "1.  Nuclear membrane   \n",
    "2.  Nucleoli   \n",
    "3.  Nucleoli fibrillar center   \n",
    "4.  Nuclear speckles   \n",
    "5.  Nuclear bodies   \n",
    "6.  Endoplasmic reticulum   \n",
    "7.  Golgi apparatus   \n",
    "8.  Peroxisomes   \n",
    "9.  Endosomes   \n",
    "10.  Lysosomes   \n",
    "11.  Intermediate filaments   \n",
    "12.  Actin filaments   \n",
    "13.  Focal adhesion sites   \n",
    "14.  Microtubules   \n",
    "15.  Microtubule ends   \n",
    "16.  Cytokinetic bridge   \n",
    "17.  Mitotic spindle   \n",
    "18.  Microtubule organizing center   \n",
    "19.  Centrosome   \n",
    "20.  Lipid droplets   \n",
    "21.  Plasma membrane   \n",
    "22.  Cell junctions   \n",
    "23.  Mitochondria   \n",
    "24.  Aggresome   \n",
    "25.  Cytosol   \n",
    "26.  Cytoplasmic bodies   \n",
    "27.  Rods & rings  "
   ]
  },
  {
   "cell_type": "markdown",
   "metadata": {
    "_uuid": "395ab40f1ad6a71092bfacbbeeb354200adcb212"
   },
   "source": [
    "# IMPORT"
   ]
  },
  {
   "cell_type": "code",
   "execution_count": null,
   "metadata": {
    "_uuid": "dc2a5db8c7b563187305ae9bb1455d0cc7025c0a"
   },
   "outputs": [],
   "source": [
    "import os\n",
    "import numpy as np # linear algebra\n",
    "import pandas as pd # data processing, CSV file I/O (e.g. pd.read_csv)\n",
    "import matplotlib.pyplot as plt\n",
    "import seaborn as sns\n",
    "from sklearn import preprocessing\n",
    "from skimage.io import imread\n",
    "import cv2\n",
    "from skimage.transform import resize\n",
    "from sklearn.model_selection import StratifiedKFold\n",
    "from skimage.filters import try_all_threshold"
   ]
  },
  {
   "cell_type": "code",
   "execution_count": null,
   "metadata": {
    "_uuid": "71ce00ffa6b5793547de853b3cf0a012d6b5c264"
   },
   "outputs": [],
   "source": [
    "df=pd.read_csv('../input/train.csv', index_col=0)\n",
    "df.head()"
   ]
  },
  {
   "cell_type": "code",
   "execution_count": null,
   "metadata": {
    "_uuid": "d6e8daf8d179f1ab6af2ed98037b66f867163f47"
   },
   "outputs": [],
   "source": [
    "images=[imread('../input/train/'+x+'_green.png', as_gray=True) for x in df.index]\n",
    "print(images[0].shape)\n",
    "df['Image']=images"
   ]
  },
  {
   "cell_type": "code",
   "execution_count": null,
   "metadata": {
    "_uuid": "58e5a41a64a89a9eec741216ab00ecec26304d78"
   },
   "outputs": [],
   "source": [
    "df.head()"
   ]
  },
  {
   "cell_type": "markdown",
   "metadata": {
    "_uuid": "b250764843e7158a349745ebcaedc7d6a4930c30"
   },
   "source": [
    "# Green_IMAGE"
   ]
  },
  {
   "cell_type": "code",
   "execution_count": null,
   "metadata": {
    "_uuid": "23c522140543af0dcd89146271dc7f1b8351465a"
   },
   "outputs": [],
   "source": [
    "fig, ax = try_all_threshold(df.iloc[0, 1], figsize=(10, 8), verbose=False)\n",
    "plt.show()"
   ]
  },
  {
   "cell_type": "code",
   "execution_count": null,
   "metadata": {
    "_uuid": "6eb3755464052835ec6c66b3f51ffcfad343379f"
   },
   "outputs": [],
   "source": [
    "shape=[1, 5]\n",
    "fig=plt.figure(figsize=(20, 35))\n",
    "for i in range(shape[0]*shape[1]):\n",
    "    sub=plt.subplot(shape[0], shape[1], i+1)\n",
    "    plt.imshow(df.iloc[i, 1])\n",
    "#print('Example Images')\n",
    "#plt.show()"
   ]
  },
  {
   "cell_type": "code",
   "execution_count": null,
   "metadata": {
    "_uuid": "ffa24dacb72d30015a0e487ae285290a47214028"
   },
   "outputs": [],
   "source": [
    "df['Hist']=df['Image'].apply(lambda x: np.histogram(x, 128)[0])\n",
    "df.head()"
   ]
  },
  {
   "cell_type": "code",
   "execution_count": null,
   "metadata": {
    "_uuid": "060ba0f5f171202e3494c16badc60fe115cef60e"
   },
   "outputs": [],
   "source": [
    "from sklearn.cluster import KMeans\n",
    "clusters=10\n",
    "kmeans=KMeans(clusters)\n",
    "df['Cluster']=kmeans.fit_predict([np.array(x) for x in df['Hist'].values])\n",
    "df.head()\n",
    "shape=[1, 5]\n",
    "fig=plt.figure(figsize=(20, 35))\n",
    "for i in range(shape[0]*shape[1]):\n",
    "    sub=plt.subplot(shape[0], shape[1], i+1)\n",
    "    sub.set_title(df.iloc[i, 3])\n",
    "    plt.imshow(df.iloc[i, 1])\n",
    "print('Example Images')\n",
    "plt.show()"
   ]
  },
  {
   "cell_type": "code",
   "execution_count": null,
   "metadata": {
    "_uuid": "2ea2617ec3080f5c62d75a87ddaec1bbe5cbd274"
   },
   "outputs": [],
   "source": [
    "%matplotlib inline \n",
    "import matplotlib.pyplot as plt\n",
    "import pandas as pd\n",
    "import numpy as np\n",
    "import os\n",
    "from PIL import Image\n",
    "\n",
    "\n",
    "data_train_dir = r'../input/train'\n",
    "answer_file_path = r'../input/train.csv'\n",
    "\n",
    "channels = ['_yellow', '_red', '_green', '_blue']\n",
    "\n",
    "index_class_dict = {\n",
    "    0: \"Nucleoplasm\",\n",
    "    1: \"Nuclear membrane\",\n",
    "    2: \"Nucleoli\",\n",
    "    3: \"Nucleoli fibrillar center\",\n",
    "    4: \"Nuclear speckles\",\n",
    "    5: \"Nuclear bodies\",\n",
    "    6: \"Endoplasmic reticulum\",\n",
    "    7: \"Golgi apparatus\",\n",
    "    8: \"Peroxisomes\",\n",
    "    9: \"Endosomes\",\n",
    "    10: \"Lysosomes\",\n",
    "    11: \"Intermediate filaments\",\n",
    "    12: \"Actin filaments\",\n",
    "    13: \"Focal adhesion sites\",\n",
    "    14: \"Microtubules\",\n",
    "    15: \"Microtubule ends\",\n",
    "    16: \"Cytokinetic bridge\",\n",
    "    17: \"Mitotic spindle\",\n",
    "    18: \"Microtubule organizing center\",\n",
    "    19: \"Centrosome\",\n",
    "    20: \"Lipid droplets\",\n",
    "    21: \"Plasma membrane\",\n",
    "    22: \"Cell junctions\",\n",
    "    23: \"Mitochondria\",\n",
    "    24: \"Aggresome\",\n",
    "    25: \"Cytosol\",\n",
    "    26: \"Cytoplasmic bodies\",\n",
    "    27: \"Rods & rings\"\n",
    "}\n",
    "\n",
    "train_df = pd.read_csv(answer_file_path)"
   ]
  },
  {
   "cell_type": "code",
   "execution_count": null,
   "metadata": {
    "_uuid": "97d89084332ec485adf26908202e7d538401d0bd"
   },
   "outputs": [],
   "source": [
    "train_df[f'target_vec'] = train_df['Target'].map(lambda x: list(map(int, x.strip().split())))\n",
    "for i in range(28):\n",
    "    train_df[f'{index_class_dict[i]}'] = train_df['Target'].map(\n",
    "             lambda x: 1 if str(i) in x.strip().split() else 0)\n",
    "train_df.head()\n"
   ]
  },
  {
   "cell_type": "code",
   "execution_count": null,
   "metadata": {
    "_uuid": "d9b6bce8ec86919ecac4fd9d930e81b3dde8a503"
   },
   "outputs": [],
   "source": [
    "class_index = 1  # Nuclear membrane\n",
    "current_part = train_df[train_df[index_class_dict[class_index]] == 1]"
   ]
  },
  {
   "cell_type": "code",
   "execution_count": null,
   "metadata": {
    "_uuid": "976225c4df9bc2735d160f4d72900809afdfe387"
   },
   "outputs": [],
   "source": [
    "#Functions for visualization\n",
    "def make_rgb_image_from_four_channels(channels: list, image_width=512, image_height=512) -> np.ndarray:\n",
    "    \"\"\"\n",
    "    It makes literally RGB image from source four channels, \n",
    "    where yellow image will be yellow color, red will be red and so on  \n",
    "    \"\"\"\n",
    "    rgb_image = np.zeros(shape=(image_height, image_width, 3), dtype=np.float)\n",
    "    yellow = np.array(Image.open(channels[0]))\n",
    "    # yellow is red + green\n",
    "    rgb_image[:, :, 0] += yellow/2   \n",
    "    rgb_image[:, :, 1] += yellow/2\n",
    "    # loop for R,G and B channels\n",
    "    for index, channel in enumerate(channels[1:]):\n",
    "        current_image = Image.open(channel)\n",
    "        rgb_image[:, :, index] += current_image\n",
    "    # Normalize image\n",
    "    rgb_image = rgb_image / rgb_image.max() * 255\n",
    "    return rgb_image.astype(np.uint8)\n",
    "def visualize_part(start_class_index=0, nrows=4, ncols=3):\n",
    "    \"\"\"\n",
    "    Visualize the part of classes, started from class with index start_class_index,\n",
    "    make nrows classes, ncols examples for each one\n",
    "    \"\"\"\n",
    "    fig, ax = plt.subplots(nrows = nrows, ncols=ncols, figsize=(15, 25))\n",
    "    for class_index in range(nrows):\n",
    "        current_index = class_index + start_class_index\n",
    "        for sample in range(ncols):\n",
    "            current_part = train_df[train_df[index_class_dict[current_index]] == 1] \n",
    "            # 0 index is id\n",
    "            random_index = np.random.choice(current_part.values.shape[0], 1, replace=False)\n",
    "            # random line from data with selected class\n",
    "            current_line = current_part.values[random_index][0]\n",
    "            image_names = [os.path.join(data_train_dir, current_line[0]) \n",
    "                           + x + '.png' for x in channels]\n",
    "            rgb_image = make_rgb_image_from_four_channels(image_names)\n",
    "            # text annotations, main title and subclasses (may be empty in case one label)\n",
    "            main_class = index_class_dict[current_index]+'\\n'\n",
    "            # 2 index is vector with classes, split version of Target col\n",
    "            other_classes = [index_class_dict[x] for x in current_line[2] \n",
    "                             if x != (current_index)]\n",
    "            subtitle = ', '.join(other_classes)\n",
    "            # show image\n",
    "            ax[class_index, sample].set_title(main_class, fontsize=18)\n",
    "            ax[class_index, sample].text(250, -10, subtitle, \n",
    "                                         fontsize=14, horizontalalignment='center')\n",
    "            ax[class_index, sample].imshow(rgb_image)\n",
    "            ax[class_index, sample].set_xticklabels([])\n",
    "            ax[class_index, sample].set_yticklabels([])\n",
    "            ax[class_index, sample].tick_params(left=False, bottom=False)"
   ]
  },
  {
   "cell_type": "code",
   "execution_count": null,
   "metadata": {
    "_uuid": "5f644b34bab8f99ee00e6224228c46d22e0609a2"
   },
   "outputs": [],
   "source": [
    "#visualize 3 examples for each class (4*3)\n",
    "visualize_part(0)"
   ]
  },
  {
   "cell_type": "code",
   "execution_count": null,
   "metadata": {
    "_uuid": "93908ee9718360b0958af7cb73a42ef76bd64e5b"
   },
   "outputs": [],
   "source": [
    "#class study\n",
    "\n",
    "import numpy as np\n",
    "import pandas as pd \n",
    "import seaborn as sns\n",
    "import os\n",
    "from itertools import chain\n",
    "from collections import Counter\n",
    "sns.set_style(\"white\")\n",
    "sns.set_context(\"notebook\", font_scale=1.5, rc={\"lines.linewidth\": 2.5})\n",
    "\n",
    "#from keras.preprocessing.image import load_img\n",
    "from matplotlib import pyplot as plt\n",
    "%matplotlib inline"
   ]
  },
  {
   "cell_type": "code",
   "execution_count": null,
   "metadata": {
    "_uuid": "af85ef0e9a668c722ac1150a33064cb93d5fb627"
   },
   "outputs": [],
   "source": [
    "df = pd.read_csv('../input/train.csv')\n",
    "def count_target(target_val):\n",
    "    return len(target_val.split(' '))\n",
    "\n",
    "df['nclass'] = df.Target.map(count_target)"
   ]
  },
  {
   "cell_type": "code",
   "execution_count": null,
   "metadata": {
    "_uuid": "da4c9a4a1f015bd073a6b933ae0c67c997739b42"
   },
   "outputs": [],
   "source": [
    "#Function for plotting the images\n",
    "\n",
    "def plot_img(img_id):\n",
    "    filt_no = 0\n",
    "    plt.figure(figsize=(30,60))\n",
    "    plt.tight_layout()\n",
    "    for filt in img_filt:\n",
    "        img_path = train_img_path + img_id + filt\n",
    "        img = np.array(load_img(img_path))\n",
    "        plt.subplot(1,4,filt_no+1)\n",
    "        plt.imshow(img)\n",
    "        if i==0: plt.title(filt[1:-4]+' filter')\n",
    "        plt.axis('off')\n",
    "        filt_no += 1 "
   ]
  },
  {
   "cell_type": "code",
   "execution_count": null,
   "metadata": {
    "_uuid": "b97c7dcf5d338e4fb7d0f18eb8138b3296127300"
   },
   "outputs": [],
   "source": [
    "#Label Count Distribribution\n",
    "\n",
    "label_count = []\n",
    "for i in range(df.nclass.min(),df.nclass.max()+1):\n",
    "    label_count.append(np.sum(df.nclass==i))\n",
    "    print('No. of images with',i,'label:',label_count[-1])"
   ]
  },
  {
   "cell_type": "code",
   "execution_count": null,
   "metadata": {
    "_uuid": "684dd4cffeea0b1eb5c1597d58de1770bad0c560"
   },
   "outputs": [],
   "source": [
    "x = np.arange(len(label_count))+1\n",
    "plt.bar(x,label_count)\n",
    "plt.title('Label Count Distribution in Train Set')"
   ]
  },
  {
   "cell_type": "code",
   "execution_count": null,
   "metadata": {
    "_uuid": "5f3c8c7eb9ab31d2b86186b0694aff4e820cd2a5"
   },
   "outputs": [],
   "source": [
    "#Mapping the labels\n",
    "\n",
    "def mk_list(val):\n",
    "    return [int(label) for label in val.split(' ')]\n",
    "df['target_list'] = df['Target'].map(mk_list)\n",
    "all_labels = list(chain.from_iterable(df['target_list'].values))\n",
    "label_count = Counter(all_labels)\n",
    "arr = np.zeros((28,))\n",
    "for key,value in label_count.items():\n",
    "    arr[key] = value"
   ]
  },
  {
   "cell_type": "code",
   "execution_count": null,
   "metadata": {
    "_uuid": "30f355ec95c2ee206680272f360d9cde1b9cffe9"
   },
   "outputs": [],
   "source": [
    "map_class_labels = {\n",
    "0:  'Nucleoplasm',\n",
    "1:  'Nuclear membrane',\n",
    "2:  'Nucleoli',\n",
    "3:  'Nucleoli fibrillar center',\n",
    "4:  'Nuclear speckles',\n",
    "5:  'Nuclear bodies',\n",
    "6: 'Endoplasmic reticulum',\n",
    "7:  'Golgi apparatus',\n",
    "8:  'Peroxisomes',\n",
    "9:  'Endosomes',\n",
    "10:  'Lysosomes',\n",
    "11:  'Intermediate filaments',\n",
    "12:  'Actin filaments',\n",
    "13:  'Focal adhesion sites',\n",
    "14: 'Microtubules',\n",
    "15: 'Microtubule ends',\n",
    "16: 'Cytokinetic bridge',\n",
    "17: 'Mitotic spindle',\n",
    "18: 'Microtubule organizing center',\n",
    "19: 'Centrosome',\n",
    "20: 'Lipid droplets',\n",
    "21: 'Plasma membrane',\n",
    "22: 'Cell junctions',\n",
    "23: 'Mitochondria',\n",
    "24: 'Aggresome',\n",
    "25: 'Cytosol',\n",
    "26: 'Cytoplasmic bodies',\n",
    "27: 'Rods and rings'}"
   ]
  },
  {
   "cell_type": "code",
   "execution_count": null,
   "metadata": {
    "_uuid": "50e987a9e62dfb71c521818735b58ed83661090e"
   },
   "outputs": [],
   "source": [
    "#graph class \n",
    "\n",
    "plt.figure(figsize=(30,5))\n",
    "ax = sns.barplot(x=np.arange(28),y=arr)\n",
    "ax.set_xticklabels(list(map_class_labels.values()), fontsize=15, rotation=40, ha=\"right\")\n",
    "ax.set(xlabel='Classes', ylabel='Class Counts')\n",
    "plt.show()"
   ]
  },
  {
   "cell_type": "code",
   "execution_count": null,
   "metadata": {
    "_uuid": "16a15d52207f7d63b3c849020075d94625bf9aa5"
   },
   "outputs": [],
   "source": [
    "#Plotting the image with the histogram\n",
    "import numpy as np\n",
    "import matplotlib.pyplot as plt\n",
    "import matplotlib\n",
    "%matplotlib inline\n",
    "plt.gray()\n",
    "import skimage.filters\n",
    "import scipy.ndimage\n",
    "import sklearn.feature_extraction\n",
    "import sklearn.cluster\n",
    "import skimage.feature\n",
    "import skimage.transform\n",
    "import PIL\n",
    "import sys\n",
    "\n"
   ]
  },
  {
   "cell_type": "code",
   "execution_count": null,
   "metadata": {
    "_uuid": "e3a2f0ab914865745bd4e7fd1eed7f31d6a4244f"
   },
   "outputs": [],
   "source": [
    "def plot_file(filename):\n",
    "    image = plt.imread(filename)\n",
    "    hist = np.histogram(image - image.mean(),\n",
    "                        bins=np.arange(image.min(),\n",
    "                                       image.max(),\n",
    "                                       1/256))\n",
    "\n",
    "    fig, axes = plt.subplots(1, 2, figsize=(8, 3))\n",
    "    \n",
    "    axes[0].imshow(image, interpolation='nearest')\n",
    "    axes[0].axis('off')\n",
    "    axes[0].set_title(filename[-20:])\n",
    "    \n",
    "    axes[1].plot(hist[1][:-1], hist[0], lw=2)\n",
    "    axes[1].set_title('histogram of gray values')\n",
    "    \n",
    "    plt.show()"
   ]
  },
  {
   "cell_type": "code",
   "execution_count": null,
   "metadata": {
    "_uuid": "4b811b3d0e34b4d2bd26e1fedad79f9e2460918c"
   },
   "outputs": [],
   "source": [
    "plot_file('../input/train/002daad6-bbc9-11e8-b2bc-ac1f6b6435d0_red.png')\n",
    "plot_file('../input/train/002daad6-bbc9-11e8-b2bc-ac1f6b6435d0_green.png')\n",
    "plot_file('../input/train/002daad6-bbc9-11e8-b2bc-ac1f6b6435d0_blue.png')\n",
    "plot_file('../input/train/002daad6-bbc9-11e8-b2bc-ac1f6b6435d0_yellow.png')"
   ]
  },
  {
   "cell_type": "code",
   "execution_count": null,
   "metadata": {
    "_uuid": "f365d977145d9db98ba85bd40db513c32a448faf"
   },
   "outputs": [],
   "source": [
    "plot_file('../input/train/002daad6-bbc9-11e8-b2bc-ac1f6b6435d0_red.png')\n",
    "plot_file('../input/train/002daad6-bbc9-11e8-b2bc-ac1f6b6435d0_green.png')\n",
    "plot_file('../input/train/002daad6-bbc9-11e8-b2bc-ac1f6b6435d0_blue.png')\n",
    "plot_file('../input/train/002daad6-bbc9-11e8-b2bc-ac1f6b6435d0_yellow.png')\n"
   ]
  },
  {
   "cell_type": "code",
   "execution_count": null,
   "metadata": {
    "_uuid": "9fddf6293331264f3e52b1be34aec1e1ecae07eb"
   },
   "outputs": [],
   "source": [
    "#Other\n",
    "\n",
    "import numpy as np\n",
    "import pandas as pd\n",
    "import seaborn as sns\n",
    "import matplotlib.pyplot as plt\n",
    "%matplotlib inline\n",
    "import itertools as itt\n",
    "import networkx as nx\n",
    "from sklearn.preprocessing import MinMaxScaler\n"
   ]
  },
  {
   "cell_type": "code",
   "execution_count": null,
   "metadata": {
    "_uuid": "2023dfb9d9d319e9214ce53a43143a806ff207c8"
   },
   "outputs": [],
   "source": [
    "train_labels = pd.read_csv(\"../input/train.csv\")"
   ]
  },
  {
   "cell_type": "code",
   "execution_count": null,
   "metadata": {
    "_uuid": "b3703b2490ac2888c10615f4987aca3ff74376da"
   },
   "outputs": [],
   "source": [
    "label_names = {\n",
    "    0:  \"Nucleoplasm\",  \n",
    "    1:  \"Nuclear membrane\",   \n",
    "    2:  \"Nucleoli\",   \n",
    "    3:  \"Nucleoli fibrillar center\",   \n",
    "    4:  \"Nuclear speckles\",\n",
    "    5:  \"Nuclear bodies\",   \n",
    "    6:  \"Endoplasmic reticulum\",   \n",
    "    7:  \"Golgi apparatus\",   \n",
    "    8:  \"Peroxisomes\",   \n",
    "    9:  \"Endosomes\",   \n",
    "    10:  \"Lysosomes\",   \n",
    "    11:  \"Intermediate filaments\",   \n",
    "    12:  \"Actin filaments\",   \n",
    "    13:  \"Focal adhesion sites\",   \n",
    "    14:  \"Microtubules\",   \n",
    "    15:  \"Microtubule ends\",   \n",
    "    16:  \"Cytokinetic bridge\",   \n",
    "    17:  \"Mitotic spindle\",   \n",
    "    18:  \"Microtubule organizing center\",   \n",
    "    19:  \"Centrosome\",   \n",
    "    20:  \"Lipid droplets\",   \n",
    "    21:  \"Plasma membrane\",   \n",
    "    22:  \"Cell junctions\",   \n",
    "    23:  \"Mitochondria\",   \n",
    "    24:  \"Aggresome\",   \n",
    "    25:  \"Cytosol\",   \n",
    "    26:  \"Cytoplasmic bodies\",   \n",
    "    27:  \"Rods & rings\"\n",
    "}\n",
    "\n",
    "reverse_train_labels = dict((v,k) for k,v in label_names.items())\n",
    "\n",
    "def fill_targets(row):\n",
    "    row.Target = np.array(row.Target.split(\" \")).astype(np.int)\n",
    "    for num in row.Target:\n",
    "        name = label_names[int(num)]\n",
    "        row.loc[name] = 1\n",
    "    return row"
   ]
  },
  {
   "cell_type": "code",
   "execution_count": null,
   "metadata": {
    "_uuid": "39941a3f288338c388a3529c167413fec5ff1157"
   },
   "outputs": [],
   "source": [
    "for key in label_names.keys():\n",
    "    train_labels[label_names[key]] = 0"
   ]
  },
  {
   "cell_type": "code",
   "execution_count": null,
   "metadata": {
    "_uuid": "22864f8b286e83f485402d40db8aebac2f7a70cb"
   },
   "outputs": [],
   "source": [
    "train_labels = train_labels.apply(fill_targets, axis=1)"
   ]
  },
  {
   "cell_type": "code",
   "execution_count": null,
   "metadata": {
    "_uuid": "4d3064fdb8894d6297bb99a46117a59f4836da37"
   },
   "outputs": [],
   "source": [
    "target_counts = train_labels.drop([\"Id\", \"Target\"],axis=1).sum(axis=0).sort_values(ascending=False)\n",
    "plt.figure(figsize=(15,15))\n",
    "sns.barplot(y=target_counts.index.values, x=target_counts.values, order=target_counts.index)"
   ]
  },
  {
   "cell_type": "code",
   "execution_count": null,
   "metadata": {
    "_uuid": "b969d87ee2690b887778dac047dc7de4cf440fde"
   },
   "outputs": [],
   "source": [
    "target_counts.tail()"
   ]
  },
  {
   "cell_type": "code",
   "execution_count": null,
   "metadata": {
    "_uuid": "e8911faa4ba71433d80623dea3f7973783c3f695"
   },
   "outputs": [],
   "source": [
    "train_labels[\"number_of_targets\"] = train_labels.drop([\"Id\", \"Target\"],axis=1).sum(axis=1)"
   ]
  },
  {
   "cell_type": "code",
   "execution_count": null,
   "metadata": {
    "_uuid": "cc041eaf5de6b48c42ccd6018887e9487fd3006d"
   },
   "outputs": [],
   "source": [
    "count_perc = train_labels.groupby(\"number_of_targets\").count()['Id']\n",
    "count_perc"
   ]
  },
  {
   "cell_type": "code",
   "execution_count": null,
   "metadata": {
    "_uuid": "0cbae82e6948edad76ea2d5cf1d86d10baf29e03"
   },
   "outputs": [],
   "source": [
    "plt.figure(figsize=(5,5))\n",
    "plt.pie(count_perc,\n",
    "        labels=[\"%d targets\" % x for x in count_perc.index],\n",
    "        autopct='%1.1f%%')\n",
    "plt.ylabel('');"
   ]
  },
  {
   "cell_type": "code",
   "execution_count": null,
   "metadata": {
    "_uuid": "508ebe6f2ef77da59fbb1844ae53fbeda9e50943"
   },
   "outputs": [],
   "source": [
    "#Other\n",
    "GAUSSIAN_NOISE = 0.1\n",
    "UPSAMPLE_MODE = 'SIMPLE'\n",
    "# number of validation images to use\n",
    "VALID_IMG_COUNT = 1000\n",
    "# maximum number of training images\n",
    "MAX_TRAIN_IMAGES = 15000 \n",
    "BASE_MODEL='RESNET52' # ['VGG16', 'RESNET52', 'InceptionV3', 'Xception', 'DenseNet169', 'DenseNet121']\n",
    "IMG_SIZE = (299, 299) # [(224, 224), (384, 384), (512, 512), (640, 640)]\n",
    "BATCH_SIZE = 32 # [1, 8, 16, 24]\n",
    "DROPOUT = 0.5\n",
    "DENSE_COUNT = 128\n",
    "LEARN_RATE = 1e-4\n",
    "EPOCHS = 10\n",
    "RGB_FLIP = 1 # should rgb be flipped when rendering images"
   ]
  },
  {
   "cell_type": "code",
   "execution_count": null,
   "metadata": {
    "_uuid": "fe51e825c758ec18b4246dadb576b362ab58f99f"
   },
   "outputs": [],
   "source": [
    "import os\n",
    "import numpy as np # linear algebra\n",
    "import pandas as pd # data processing, CSV file I/O (e.g. pd.read_csv)\n",
    "from skimage.io import imread\n",
    "import matplotlib.pyplot as plt\n",
    "from skimage.segmentation import mark_boundaries\n",
    "from skimage.util import montage\n",
    "montage_rgb = lambda x: np.stack([montage(x[:, :, :, i]) for i in range(x.shape[3])], -1)\n",
    "base_dir = '../input'\n",
    "train_image_dir = os.path.join(base_dir, 'train')\n",
    "test_image_dir = os.path.join(base_dir, 'test')\n",
    "import gc; gc.enable() # memory is tight\n",
    "import numpy as np"
   ]
  },
  {
   "cell_type": "code",
   "execution_count": null,
   "metadata": {
    "_uuid": "dc17aec2aeba099d0eb45827c03d0107b3325416"
   },
   "outputs": [],
   "source": [
    "image_df = pd.read_csv(os.path.join('../input/',\n",
    "                                 'train.csv'))\n",
    "print(image_df.shape[0], 'masks found')\n",
    "print(image_df['Id'].value_counts().shape[0])\n",
    "# just use green for now\n",
    "image_df['Green_path'] = image_df['Id'].map(lambda x: os.path.join(train_image_dir, '{}_green.png'.format(x)))\n",
    "image_df['Target_list'] = image_df['Target'].map(lambda x: [int(a) for a in x.split(' ')])\n"
   ]
  },
  {
   "cell_type": "code",
   "execution_count": null,
   "metadata": {
    "_uuid": "f4b4f285ff0525c9854b111ad5aad137bdc5cfb0"
   },
   "outputs": [],
   "source": [
    "from itertools import chain\n",
    "from collections import Counter\n",
    "all_labels = list(chain.from_iterable(image_df['Target_list'].values))\n",
    "c_val = Counter(all_labels)\n",
    "n_keys = c_val.keys()\n",
    "max_idx = max(n_keys)\n",
    "fig, ax1 = plt.subplots(1,1, figsize = (10, 5))\n",
    "ax1.bar(n_keys, [c_val[k] for k in n_keys])\n",
    "for k,v in c_val.items():\n",
    "    print(k, 'count:', v)"
   ]
  },
  {
   "cell_type": "code",
   "execution_count": null,
   "metadata": {
    "_uuid": "c894c21c5822c9d710a3d685c2c895f861108b9d"
   },
   "outputs": [],
   "source": [
    "# create a categorical vector\n",
    "image_df['Target_vec'] = image_df['Target_list'].map(lambda ck: [i in ck for i in range(max_idx+1)])\n",
    "image_df.sample(3)"
   ]
  },
  {
   "cell_type": "code",
   "execution_count": null,
   "metadata": {
    "_uuid": "d32523458e1c0f83bca76b72451df499b1f668f1"
   },
   "outputs": [],
   "source": [
    "image_df.shape"
   ]
  },
  {
   "cell_type": "code",
   "execution_count": null,
   "metadata": {
    "_uuid": "57179b9a468c6f406534279b29bed96d9764f3d0"
   },
   "outputs": [],
   "source": [
    "#WHYNOT"
   ]
  },
  {
   "cell_type": "code",
   "execution_count": null,
   "metadata": {
    "_uuid": "3c3b4ecd5799abacac0250f4f20b179093f79705"
   },
   "outputs": [],
   "source": [
    "from sklearn.model_selection import train_test_split\n",
    "train_df, valid_df = train_test_split(image_df, \n",
    "                 test_size = 0.3, \n",
    "                  # hack to make stratification work                  \n",
    "                 stratify = image_df['Target'].map(lambda x: x[:3] if '27' not in x else '0'))\n",
    "print(train_df.shape[0], 'Training masks')\n",
    "print(valid_df.shape[0], 'Validation masks')"
   ]
  },
  {
   "cell_type": "code",
   "execution_count": null,
   "metadata": {
    "_uuid": "dd8f0d05b85292c30083b2066d746f43879c402c"
   },
   "outputs": [],
   "source": [
    "train_df = train_df.sample(min(MAX_TRAIN_IMAGES, train_df.shape[0])) # limit size of training set (otherwise it takes too long)"
   ]
  },
  {
   "cell_type": "code",
   "execution_count": null,
   "metadata": {
    "_uuid": "9f7741693642add1860882b5ca6c4ca288fe7461"
   },
   "outputs": [],
   "source": [
    "fig, (ax1, ax2) = plt.subplots(1, 2, figsize = (10, 5))\n",
    "train_sum_vec = np.sum(np.stack(train_df['Target_vec'].values, 0), 0)\n",
    "valid_sum_vec = np.sum(np.stack(valid_df['Target_vec'].values, 0), 0)\n",
    "ax1.bar(n_keys, [train_sum_vec[k] for k in n_keys])\n",
    "ax1.set_title('Training Distribution')\n",
    "ax2.bar(n_keys, [valid_sum_vec[k] for k in n_keys])\n",
    "ax2.set_title('Validation Distribution')"
   ]
  },
  {
   "cell_type": "code",
   "execution_count": null,
   "metadata": {
    "_uuid": "9020fccf20fbcc0ad0b808f73b669360f2b50ebb"
   },
   "outputs": [],
   "source": [
    "test=imread('../input/train/00070df0-bbc3-11e8-b2bc-ac1f6b6435d0_green.png', as_gray=True)\n",
    "test"
   ]
  },
  {
   "cell_type": "code",
   "execution_count": null,
   "metadata": {
    "_uuid": "3937aab4b1a7b32befe720b541ddf82d4f4da0f4"
   },
   "outputs": [],
   "source": []
  },
  {
   "cell_type": "markdown",
   "metadata": {
    "_uuid": "fcf60487b4d786c96065c995a6e88c8949280d99"
   },
   "source": [
    "***START***"
   ]
  },
  {
   "cell_type": "code",
   "execution_count": null,
   "metadata": {
    "_uuid": "3bc744025a0b15f1da3cd10817a21144887f5b8a"
   },
   "outputs": [],
   "source": [
    "#image visualisation \n",
    "%matplotlib inline \n",
    "import matplotlib.pyplot as plt\n",
    "import pandas as pd\n",
    "import numpy as np\n",
    "import os\n",
    "from PIL import Image"
   ]
  },
  {
   "cell_type": "code",
   "execution_count": null,
   "metadata": {
    "_uuid": "105b28f1416ce0889fe040071f484ca7f9d4b5d9"
   },
   "outputs": [],
   "source": [
    "#load data\n",
    "train_df = pd.read_csv('../input/train.csv')\n",
    "train_df.head()"
   ]
  },
  {
   "cell_type": "code",
   "execution_count": null,
   "metadata": {
    "_uuid": "2862100620fef682297b3de57aae5e96337692bc"
   },
   "outputs": [],
   "source": [
    "#target = train_df[\"Target\"]\n",
    "labels = train_df[\"Target\"]\n",
    "ids = train_df[\"Id\"]"
   ]
  },
  {
   "cell_type": "code",
   "execution_count": null,
   "metadata": {
    "_uuid": "d5d3b427514485a3ecb9456417e1991329b9fc8d"
   },
   "outputs": [],
   "source": [
    "#creation of classes\n",
    "channels = ['_yellow', '_red', '_green', '_blue']\n",
    "\n",
    "index_class_dict = {\n",
    "   # \"Nucleoplasm\": 0,\n",
    "    0: 0,\n",
    "    1: 1,\n",
    "    2: 2,\n",
    "    3: 3,\n",
    "    4: 4,\n",
    "    5: 5,\n",
    "    6: 6,\n",
    "    7: 7,\n",
    "    8: 8,\n",
    "    9: 9,\n",
    "    10: 10,\n",
    "    11: 11,\n",
    "    12: 12,\n",
    "    13: 13,\n",
    "    14: 14,\n",
    "    15: 15,\n",
    "    16: 16,\n",
    "    17: 17,\n",
    "    18: 18,\n",
    "    19: 19,\n",
    "    20: 20,\n",
    "    21: 21,\n",
    "    22: 22,\n",
    "    23: 23,\n",
    "    24: 24,\n",
    "    25: 25,\n",
    "    26: 26,\n",
    "    27: 27\n",
    "}\n",
    "\n",
    "dict = {v: k for k, v in index_class_dict.items()}\n",
    "\n",
    "def to_cat_array(label_list):\n",
    "        result = np.zeros(len(index_class_dict), dtype = np.float32)\n",
    "        for label in label_list:\n",
    "            result[dict[label]] = 1.0\n",
    "        return result\n",
    "    \n",
    "#index_class_dict"
   ]
  },
  {
   "cell_type": "code",
   "execution_count": null,
   "metadata": {
    "_uuid": "c3032a9afc3a2a3fa1a372ee3ec7131a6d71c361"
   },
   "outputs": [],
   "source": [
    "train_df[f'Target_Vec'] = train_df['Target'].map(lambda x: list(map(int, x.strip().split())))\n",
    "train_df.head()"
   ]
  },
  {
   "cell_type": "code",
   "execution_count": null,
   "metadata": {
    "_uuid": "8cdf26bbac0dd3244e4dac9580b2de7097f667f4"
   },
   "outputs": [],
   "source": [
    "from skimage.io import imread\n",
    "images=[imread('../input/train/'+x+'_green.png', as_gray=True) for x in train_df.Id]\n",
    "print(images[0].shape)\n",
    "train_df['Image']=images"
   ]
  },
  {
   "cell_type": "code",
   "execution_count": null,
   "metadata": {
    "_uuid": "0089ae6ac28c0ab38a2cbd1b089e301d55fa7425"
   },
   "outputs": [],
   "source": [
    "train_df.head()"
   ]
  },
  {
   "cell_type": "code",
   "execution_count": null,
   "metadata": {
    "_uuid": "83a1e91fd1c9c0baea3297dfb02f3639f9b38bae"
   },
   "outputs": [],
   "source": [
    "#ici"
   ]
  },
  {
   "cell_type": "code",
   "execution_count": null,
   "metadata": {
    "_uuid": "5d8fb29ceff6423a5200abf5eb4f9a7d5ded365b"
   },
   "outputs": [],
   "source": [
    "#test\n",
    "fake_label_lists = [[0, 2], [4, 10], [3, 8],[5, 12, 22]]"
   ]
  },
  {
   "cell_type": "code",
   "execution_count": null,
   "metadata": {
    "_uuid": "33d04b0121770587cf128a4026a5d40bb17e17b2"
   },
   "outputs": [],
   "source": [
    "categories = list (map(to_cat_array, fake_label_lists))\n",
    "categories"
   ]
  },
  {
   "cell_type": "code",
   "execution_count": null,
   "metadata": {
    "_uuid": "3470eb91d4d00fb235e6a099b90dc10d61d0b789"
   },
   "outputs": [],
   "source": [
    "train_df['Label'] = list(map(to_cat_array, train_df.Target_Vec))"
   ]
  },
  {
   "cell_type": "code",
   "execution_count": null,
   "metadata": {
    "_uuid": "9e6f103e3ab03c0ac364214ba2f40231761e3d95"
   },
   "outputs": [],
   "source": [
    "train_df.head()"
   ]
  },
  {
   "cell_type": "markdown",
   "metadata": {
    "_uuid": "be26defbe3e6bbbf2c2c31a48388b094f1723502"
   },
   "source": [
    "WORK ON ONLY 500 IMAGES"
   ]
  },
  {
   "cell_type": "code",
   "execution_count": null,
   "metadata": {
    "_uuid": "d01a62d58f7a1f28f516552d8ac4a838aa00fc3c"
   },
   "outputs": [],
   "source": [
    "images = train_df.Image.iloc[0:500]"
   ]
  },
  {
   "cell_type": "code",
   "execution_count": null,
   "metadata": {
    "_uuid": "459e689313269f6555fb71bd82d9e08e2363fe33"
   },
   "outputs": [],
   "source": [
    "images.head()"
   ]
  },
  {
   "cell_type": "code",
   "execution_count": null,
   "metadata": {
    "_uuid": "70d5ab46204317b406f24594ef27717733afdadb"
   },
   "outputs": [],
   "source": [
    "labels = train_df.Label.iloc[0:500]"
   ]
  },
  {
   "cell_type": "code",
   "execution_count": null,
   "metadata": {
    "_uuid": "e4435258c49fefd99ad6b008bf824764f991ee57"
   },
   "outputs": [],
   "source": [
    "labels.head()"
   ]
  },
  {
   "cell_type": "code",
   "execution_count": null,
   "metadata": {
    "_uuid": "3f91c97d8ace726c3dd5996633260676a70dd2ce"
   },
   "outputs": [],
   "source": [
    "images.shape"
   ]
  },
  {
   "cell_type": "code",
   "execution_count": null,
   "metadata": {
    "_uuid": "06cb9b7f6e020db5e1fab9a1b839349c8bd721b8"
   },
   "outputs": [],
   "source": [
    "labels.shape"
   ]
  },
  {
   "cell_type": "code",
   "execution_count": null,
   "metadata": {
    "_uuid": "14dcae0445115fb1995d2633c0bcf7d370c9d5fb"
   },
   "outputs": [],
   "source": [
    "from sklearn.model_selection import train_test_split\n",
    "train_images, test_images,train_labels, test_labels = train_test_split(images, labels, train_size=0.8, random_state=0)"
   ]
  },
  {
   "cell_type": "code",
   "execution_count": null,
   "metadata": {
    "_uuid": "e896c5413c5ebd222cde2fe96b8b83913d2cb3b9"
   },
   "outputs": [],
   "source": [
    "img=train_images.iloc[4]\n",
    "plt.imshow(img,cmap='gray')"
   ]
  },
  {
   "cell_type": "code",
   "execution_count": null,
   "metadata": {
    "_uuid": "c9c8b25d1cf90e66a54ac16811657bedc3c4216f"
   },
   "outputs": [],
   "source": [
    "plt.imshow(img,cmap='binary')"
   ]
  },
  {
   "cell_type": "code",
   "execution_count": null,
   "metadata": {
    "_uuid": "f2ea7dac23fab049a7dcbe06fd1c83a8eb41cb8d"
   },
   "outputs": [],
   "source": [
    "#from sklearn.datasets import load_iris\n",
    "#from sklearn.model_selection import cross_val_score\n",
    "#from sklearn.tree import DecisionTreeClassifier\n",
    "#clf = DecisionTreeClassifier(random_state=0)\n",
    "#iris = load_iris()\n",
    "#clf.fit([np.array(image, dtype=np.int8).reshape(512*512) for image in train_images], [np.array(label, dtype=np.int64) for label in train_labels])\n",
    "#clf.score([np.array(image, dtype=np.int8).reshape(512*512) for image in train_images], [np.array(label, dtype=np.int64) for label in train_labels])"
   ]
  },
  {
   "cell_type": "code",
   "execution_count": null,
   "metadata": {
    "_uuid": "0f7aaff0fa4e29972dab33063f8b13be1ee4bee1"
   },
   "outputs": [],
   "source": [
    "[np.array(image, dtype=np.int8).reshape(512*512) for image in train_images]"
   ]
  },
  {
   "cell_type": "code",
   "execution_count": null,
   "metadata": {
    "_uuid": "63d2751e01617a5557241478ff3a5a359038b4d4"
   },
   "outputs": [],
   "source": [
    "[np.array(label, dtype=np.int64) for label in train_labels]"
   ]
  },
  {
   "cell_type": "code",
   "execution_count": null,
   "metadata": {
    "_uuid": "65cc1b6a61749b87c7a65998b3679849da18b73d"
   },
   "outputs": [],
   "source": [
    "#echec\n",
    "#cross_val_score(clf, [np.array(image, dtype=np.int8).reshape(512*512) for image in train_images], [np.array(label, dtype=np.int64) for label in train_labels], cv=10)"
   ]
  },
  {
   "cell_type": "code",
   "execution_count": null,
   "metadata": {
    "_uuid": "59be411f34daa067271b4e3950e03ee9b3af870a"
   },
   "outputs": [],
   "source": []
  }
 ],
 "metadata": {
  "kernelspec": {
   "display_name": "Python 3",
   "language": "python",
   "name": "python3"
  },
  "language_info": {
   "codemirror_mode": {
    "name": "ipython",
    "version": 3
   },
   "file_extension": ".py",
   "mimetype": "text/x-python",
   "name": "python",
   "nbconvert_exporter": "python",
   "pygments_lexer": "ipython3",
   "version": "3.6.5"
  }
 },
 "nbformat": 4,
 "nbformat_minor": 1
}
