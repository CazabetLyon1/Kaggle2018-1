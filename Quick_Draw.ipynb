{
 "cells": [
  {
   "cell_type": "markdown",
   "metadata": {},
   "source": [
    "----------------------------------------\n",
    "## Initialisation"
   ]
  },
  {
   "cell_type": "markdown",
   "metadata": {},
   "source": [
    "### Load modules"
   ]
  },
  {
   "cell_type": "code",
   "execution_count": 1,
   "metadata": {
    "scrolled": true,
    "slideshow": {
     "slide_type": "slide"
    }
   },
   "outputs": [
    {
     "name": "stderr",
     "output_type": "stream",
     "text": [
      "Using TensorFlow backend.\n"
     ]
    }
   ],
   "source": [
    "import App\n",
    "import numpy as np\n",
    "\n",
    "from Tools.DataSet import DataSet"
   ]
  },
  {
   "cell_type": "code",
   "execution_count": 2,
   "metadata": {},
   "outputs": [],
   "source": [
    "from Data.Challenge2 import DataIO                                 # Challenge2 data loading\n",
    "from Data.Challenge2.DataIO import DrawingData                     # Import custom data class for distant pickle\n",
    "\n",
    "from InputFormatter import to_normalized_images as input_formatter\n",
    "from Tools.CategorigalMapping import CategoricalMapping\n",
    "\n",
    "cat_mapping = CategoricalMapping(DataIO.get_output_categories())   # Create an output encoder/decoder"
   ]
  },
  {
   "cell_type": "markdown",
   "metadata": {},
   "source": [
    "### Import model"
   ]
  },
  {
   "cell_type": "code",
   "execution_count": 3,
   "metadata": {
    "scrolled": true
   },
   "outputs": [
    {
     "name": "stdout",
     "output_type": "stream",
     "text": [
      "loading model: Models/Challenge2/CNN2D_2/\n"
     ]
    }
   ],
   "source": [
    "from Models.Challenge2.CNN2D_2 import Compiler                      # Import a compiler for the model\n",
    "\n",
    "model_name = 'Challenge2/CNN2D_2'\n",
    "network_name = None\n",
    "\n",
    "nn = App.load_model('Models/{}/'.format(model_name), network_name)  # Load the model\n",
    "nn = Compiler.compile_model(nn)                                     # Compile the model"
   ]
  },
  {
   "cell_type": "markdown",
   "metadata": {},
   "source": [
    "----------------------------------------------\n",
    "## Training"
   ]
  },
  {
   "cell_type": "markdown",
   "metadata": {},
   "source": [
    "### Data Generators (for continuous data feed)"
   ]
  },
  {
   "cell_type": "code",
   "execution_count": 4,
   "metadata": {
    "scrolled": true
   },
   "outputs": [],
   "source": [
    "from Tools.ThreadedGenerator import ThreadedGenerator\n",
    "\n",
    "# Function instanciating a ThreadedGenerator which will load the subsets corresponding to subsets_indices[]\n",
    "generator_maker = lambda subsets_indices:\\\n",
    "                      ThreadedGenerator(size = DataIO.get_subsets_size(subsets_indices),\n",
    "                                        batch_size = 1024,\n",
    "                                        subset_indices = subsets_indices,\n",
    "                                        subset_loader = DataIO.load_training_data,\n",
    "                                        buffer_size = 64,\n",
    "                                        x_modifier = input_formatter,\n",
    "                                        y_modifier = lambda labels: np.array([cat_mapping.to_category(label)\n",
    "                                                                              for label in labels]))\n",
    "\n",
    "train_generator = generator_maker(list(range(0, 400)))  # Create training image loading generator\n",
    "val_generator = generator_maker(list(range(400, 450)))   # Create validation image loading generator\n",
    "\n",
    "dataset = DataSet(train_generator, val_generator)      # Instantiate the DataSet"
   ]
  },
  {
   "cell_type": "markdown",
   "metadata": {},
   "source": [
    "### LearningRate Reductor"
   ]
  },
  {
   "cell_type": "code",
   "execution_count": 5,
   "metadata": {},
   "outputs": [],
   "source": [
    "# Create a learning rate reductor\n",
    "from keras.callbacks import ReduceLROnPlateau\n",
    "lr_reduction = ReduceLROnPlateau(monitor='val_categorical_accuracy',\n",
    "                                 patience=3, verbose=1, factor=0.5, min_lr=0.000001)"
   ]
  },
  {
   "cell_type": "markdown",
   "metadata": {},
   "source": [
    "### Train network"
   ]
  },
  {
   "cell_type": "code",
   "execution_count": null,
   "metadata": {
    "scrolled": true
   },
   "outputs": [
    {
     "name": "stdout",
     "output_type": "stream",
     "text": [
      "Epoch 1/1\n",
      "gen_iterator_created\n",
      "gen_iterator_created\n",
      "31754/38858 [=======================>......] - ETA: 46:59 - loss: 0.1269 - categorical_crossentropy: 0.1269 - categorical_accuracy: 0.9671"
     ]
    },
    {
     "name": "stderr",
     "output_type": "stream",
     "text": [
      "Exception in thread Thread-1000:\n",
      "Traceback (most recent call last):\n",
      "  File \"/usr/lib/python3.6/threading.py\", line 916, in _bootstrap_inner\n",
      "    self.run()\n",
      "  File \"/usr/lib/python3.6/threading.py\", line 864, in run\n",
      "    self._target(*self._args, **self._kwargs)\n",
      "  File \"/usr/lib/python3.6/multiprocessing/pool.py\", line 405, in _handle_workers\n",
      "    pool._maintain_pool()\n",
      "  File \"/usr/lib/python3.6/multiprocessing/pool.py\", line 246, in _maintain_pool\n",
      "    self._repopulate_pool()\n",
      "  File \"/usr/lib/python3.6/multiprocessing/pool.py\", line 239, in _repopulate_pool\n",
      "    w.start()\n",
      "  File \"/usr/lib/python3.6/multiprocessing/process.py\", line 105, in start\n",
      "    self._popen = self._Popen(self)\n",
      "  File \"/usr/lib/python3.6/multiprocessing/context.py\", line 277, in _Popen\n",
      "    return Popen(process_obj)\n",
      "  File \"/usr/lib/python3.6/multiprocessing/popen_fork.py\", line 19, in __init__\n",
      "    self._launch(process_obj)\n",
      "  File \"/usr/lib/python3.6/multiprocessing/popen_fork.py\", line 66, in _launch\n",
      "    self.pid = os.fork()\n",
      "OSError: [Errno 12] Cannot allocate memory\n",
      "\n"
     ]
    },
    {
     "name": "stdout",
     "output_type": "stream",
     "text": [
      "31781/38858 [=======================>......] - ETA: 46:59 - loss: 0.1268 - categorical_crossentropy: 0.1268 - categorical_accuracy: 0.9671"
     ]
    }
   ],
   "source": [
    "train_history = App.train_model(nn, dataset, 1, 1024, lr_reduction)       # Train the model"
   ]
  },
  {
   "cell_type": "code",
   "execution_count": null,
   "metadata": {},
   "outputs": [],
   "source": [
    "App.evaluate(nn, dataset.val_images, dataset.val_labels)  # Evaluate the model"
   ]
  },
  {
   "cell_type": "markdown",
   "metadata": {},
   "source": [
    "### Save weights"
   ]
  },
  {
   "cell_type": "code",
   "execution_count": 7,
   "metadata": {
    "scrolled": true
   },
   "outputs": [],
   "source": [
    "network_name = 'Main6'\n",
    "App.save_model(nn, 'Models/{}/'.format(model_name), network_name)  # Save model + (opt) network"
   ]
  },
  {
   "cell_type": "markdown",
   "metadata": {},
   "source": [
    "## Test"
   ]
  },
  {
   "cell_type": "markdown",
   "metadata": {},
   "source": [
    "### Load test data"
   ]
  },
  {
   "cell_type": "code",
   "execution_count": 4,
   "metadata": {},
   "outputs": [],
   "source": [
    "test_images, test_labels = DataIO.load_training_data(480)            \n",
    "test_images = input_formatter(np.array(test_images))\n",
    "test_labels = np.array(list(map(cat_mapping.to_category, test_labels)))"
   ]
  },
  {
   "cell_type": "markdown",
   "metadata": {},
   "source": [
    "### Predict"
   ]
  },
  {
   "cell_type": "code",
   "execution_count": 5,
   "metadata": {
    "scrolled": true
   },
   "outputs": [
    {
     "name": "stdout",
     "output_type": "stream",
     "text": [
      "99247 predictions: 99224 correct, 23 incorrect\n"
     ]
    }
   ],
   "source": [
    "predictions = App.TestPredictions(test_images,  test_labels)  # Map predictions\n",
    "App.predict(nn, cat_mapping, predictions)  # Make predictions"
   ]
  },
  {
   "cell_type": "markdown",
   "metadata": {},
   "source": [
    "### Plot some predictions"
   ]
  },
  {
   "cell_type": "code",
   "execution_count": 6,
   "metadata": {
    "scrolled": false
   },
   "outputs": [
    {
     "name": "stdout",
     "output_type": "stream",
     "text": [
      "(64, 64)\n",
      "\n"
     ]
    },
    {
     "data": {
      "image/png": "[encoded data removed]",
      "text/plain": [
       "<Figure size 432x288 with 8 Axes>"
      ]
     },
     "metadata": {
      "needs_background": "light"
     },
     "output_type": "display_data"
    }
   ],
   "source": [
    "\n",
    "predictions.images = [np.array(np.round(x * 255), np.uint8).reshape(64, 64,) for x in predictions.images]\n",
    "print(predictions.images[0].shape)\n",
    "print('')\n",
    "App.visual_confirmation(predictions, cat_mapping)                                                 # Plot sample of predictions"
   ]
  },
  {
   "cell_type": "markdown",
   "metadata": {},
   "source": [
    "-------------------------------------------------\n",
    "## Predictions"
   ]
  },
  {
   "cell_type": "markdown",
   "metadata": {},
   "source": [
    "### Load prediction data"
   ]
  },
  {
   "cell_type": "code",
   "execution_count": 7,
   "metadata": {},
   "outputs": [
    {
     "name": "stdout",
     "output_type": "stream",
     "text": [
      "Loading test dataset from file: Data/Challenge2/sources/test_simplified.csv\n"
     ]
    }
   ],
   "source": [
    "test_ids, test_images = DataIO.load_prediction_data()\n",
    "test_images = input_formatter(np.array(test_images))"
   ]
  },
  {
   "cell_type": "markdown",
   "metadata": {},
   "source": [
    "### Predict"
   ]
  },
  {
   "cell_type": "code",
   "execution_count": 8,
   "metadata": {},
   "outputs": [],
   "source": [
    "# Make predictions on the Test data\n",
    "predictions = App.Predictions(test_images)  # Map predictions\n",
    "App.predict(nn, cat_mapping, predictions)   # Make predictions"
   ]
  },
  {
   "cell_type": "markdown",
   "metadata": {},
   "source": [
    "### Get the 3 most probable labels"
   ]
  },
  {
   "cell_type": "code",
   "execution_count": 9,
   "metadata": {},
   "outputs": [],
   "source": [
    "predictions.results = [cat_mapping.to_label(result, 3) for result in predictions.results]"
   ]
  },
  {
   "cell_type": "markdown",
   "metadata": {},
   "source": [
    "### Plot some predictions"
   ]
  },
  {
   "cell_type": "code",
   "execution_count": 12,
   "metadata": {},
   "outputs": [
    {
     "name": "stdout",
     "output_type": "stream",
     "text": [
      "['megaphone', 'firetruck', 'passport']\n",
      "['piano', 'cooler', 'house']\n",
      "['fire_hydrant', 'telephone', 'stove']\n",
      "['rabbit', 'teddy-bear', 'fan']\n",
      "['beach', 'hot_tub', 'animal_migration']\n",
      "['streetlight', 'knee', 'nail']\n",
      "['rainbow', 'helmet', 'bridge']\n",
      "['grapes', 'lobster', 'cello']\n"
     ]
    },
    {
     "data": {
      "image/png": "[encoded data removed]",
      "text/plain": [
       "<Figure size 432x288 with 8 Axes>"
      ]
     },
     "metadata": {
      "needs_background": "light"
     },
     "output_type": "display_data"
    }
   ],
   "source": [
    "from Tools.Plotting import plot_images\n",
    "plottable = range(500, 508)\n",
    "plottable_images = []\n",
    "plottable_result = []\n",
    "for i in plottable:\n",
    "    plottable_images.append(np.array(np.round(predictions.images[i] * 255), np.uint8).reshape(64, 64,))\n",
    "    plottable_result.append(predictions.results[i])\n",
    "for cat_list in plottable_result:\n",
    "    print(cat_list)\n",
    "plot_images(plottable_images)"
   ]
  },
  {
   "cell_type": "markdown",
   "metadata": {},
   "source": [
    "### Export predictions"
   ]
  },
  {
   "cell_type": "code",
   "execution_count": 11,
   "metadata": {},
   "outputs": [],
   "source": [
    "results = {'key_id': test_ids, 'word': ['{0} {1} {2}'.format(pred[0], pred[1], pred[2]) for pred in predictions.results]}\n",
    "DataIO.save_submission(results)"
   ]
  },
  {
   "cell_type": "code",
   "execution_count": null,
   "metadata": {},
   "outputs": [],
   "source": []
  }
 ],
 "metadata": {
  "kernelspec": {
   "display_name": "Python 3",
   "language": "python",
   "name": "python3"
  },
  "language_info": {
   "codemirror_mode": {
    "name": "ipython",
    "version": 3
   },
   "file_extension": ".py",
   "mimetype": "text/x-python",
   "name": "python",
   "nbconvert_exporter": "python",
   "pygments_lexer": "ipython3",
   "version": "3.6.7"
  }
 },
 "nbformat": 4,
 "nbformat_minor": 2
}
